{
 "cells": [
  {
   "cell_type": "markdown",
   "metadata": {},
   "source": [
    "1. Import Necessary Packages "
   ]
  },
  {
   "cell_type": "code",
   "execution_count": 5,
   "metadata": {},
   "outputs": [
    {
     "name": "stderr",
     "output_type": "stream",
     "text": [
      "[nltk_data] Downloading package vader_lexicon to\n",
      "[nltk_data]     /home/teddy/nltk_data...\n",
      "[nltk_data]   Package vader_lexicon is already up-to-date!\n"
     ]
    },
    {
     "data": {
      "text/plain": [
       "True"
      ]
     },
     "execution_count": 5,
     "metadata": {},
     "output_type": "execute_result"
    }
   ],
   "source": [
    "from nltk.sentiment.vader import SentimentIntensityAnalyzer\n",
    "from sklearn.feature_extraction.text import TfidfVectorizer\n",
    "import pandas as pd\n",
    "import nltk\n",
    "nltk.download('vader_lexicon')\n"
   ]
  },
  {
   "cell_type": "markdown",
   "metadata": {},
   "source": [
    "2. Make Semantic Analysise"
   ]
  },
  {
   "cell_type": "code",
   "execution_count": 3,
   "metadata": {},
   "outputs": [
    {
     "name": "stdout",
     "output_type": "stream",
     "text": [
      "                                            headline sentiment\n",
      "0            Stocks That Hit 52-Week Highs On Friday   neutral\n",
      "1         Stocks That Hit 52-Week Highs On Wednesday   neutral\n",
      "2                      71 Biggest Movers From Friday   neutral\n",
      "3       46 Stocks Moving In Friday's Mid-Day Session   neutral\n",
      "4  B of A Securities Maintains Neutral on Agilent...  positive\n"
     ]
    }
   ],
   "source": [
    "data = pd.read_csv(\"../Data/raw_analyst_ratings.csv\")\n",
    "\n",
    "# Initialize VADER sentiment analyzer\n",
    "sia = SentimentIntensityAnalyzer()\n",
    "\n",
    "# Define a function to get sentiment from VADER\n",
    "def get_sentiment_vader(text):\n",
    "    score = sia.polarity_scores(text)\n",
    "    if score['compound'] >= 0.05:\n",
    "        return 'positive'\n",
    "    elif score['compound'] <= -0.05:\n",
    "        return 'negative'\n",
    "    else:\n",
    "        return 'neutral'\n",
    "\n",
    "# Apply the function to the 'headline' column\n",
    "data['sentiment'] = data['headline'].apply(get_sentiment_vader)\n",
    "\n",
    "# Print the result\n",
    "print(data[['headline', 'sentiment']].head())\n"
   ]
  },
  {
   "cell_type": "markdown",
   "metadata": {},
   "source": [
    "3. Identify common words from headline"
   ]
  },
  {
   "cell_type": "code",
   "execution_count": 4,
   "metadata": {},
   "outputs": [],
   "source": [
    "#  preprocessing function\n",
    "def preprocess_text(text):\n",
    "    # Lowercase the text\n",
    "    text = text.lower()\n",
    "    # Remove punctuation and special characters\n",
    "    text = ''.join([char for char in text if char.isalnum() or char.isspace()])\n",
    "    return text\n",
    "\n",
    "# Apply preprocessing\n",
    "data['cleaned_headline'] = data['headline'].apply(preprocess_text)"
   ]
  },
  {
   "cell_type": "code",
   "execution_count": 6,
   "metadata": {},
   "outputs": [
    {
     "name": "stdout",
     "output_type": "stream",
     "text": [
      "       keyword         score\n",
      "90      stocks  70003.945383\n",
      "87      shares  51007.100031\n",
      "96          vs  50848.869122\n",
      "76     reports  50376.402194\n",
      "25    earnings  49525.035651\n",
      "51      market  47419.458995\n",
      "94      update  45340.649320\n",
      "28         est  43957.906077\n",
      "7    announces  41100.923737\n",
      "27         eps  41059.032021\n",
      "11   benzingas  39428.083744\n",
      "24  downgrades  34893.770513\n",
      "13         buy  32758.885815\n",
      "68          pt  31961.469730\n",
      "95    upgrades  31365.657935\n",
      "80        says  30855.928584\n",
      "79       sales  30522.204646\n",
      "59         new  27600.080579\n",
      "73      raises  27146.600522\n",
      "67       price  27079.916161\n"
     ]
    }
   ],
   "source": [
    "\n",
    "# Initialize TfidfVectorizer\n",
    "tfidf_vectorizer = TfidfVectorizer(stop_words='english', max_features=100)\n",
    "\n",
    "# Fit and transform the cleaned headlines\n",
    "X_tfidf = tfidf_vectorizer.fit_transform(data['cleaned_headline'])\n",
    "\n",
    "# Get feature names (keywords)\n",
    "tfidf_keywords = tfidf_vectorizer.get_feature_names_out()\n",
    "\n",
    "# Sum up the TF-IDF scores of each keyword\n",
    "tfidf_scores = X_tfidf.sum(axis=0).A1\n",
    "tfidf_keyword_df = pd.DataFrame({'keyword': tfidf_keywords, 'score': tfidf_scores})\n",
    "\n",
    "# Sort by score\n",
    "tfidf_keyword_df = tfidf_keyword_df.sort_values(by='score', ascending=False)\n",
    "\n",
    "# Print the most significant keywords\n",
    "print(tfidf_keyword_df.head(20))\n"
   ]
  }
 ],
 "metadata": {
  "kernelspec": {
   "display_name": "week1",
   "language": "python",
   "name": "python3"
  },
  "language_info": {
   "codemirror_mode": {
    "name": "ipython",
    "version": 3
   },
   "file_extension": ".py",
   "mimetype": "text/x-python",
   "name": "python",
   "nbconvert_exporter": "python",
   "pygments_lexer": "ipython3",
   "version": "3.9.19"
  }
 },
 "nbformat": 4,
 "nbformat_minor": 2
}
