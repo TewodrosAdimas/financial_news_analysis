{
 "cells": [
  {
   "cell_type": "markdown",
   "metadata": {},
   "source": [
    "1. Import Packages"
   ]
  },
  {
   "cell_type": "code",
   "execution_count": 19,
   "metadata": {},
   "outputs": [],
   "source": [
    "import pandas as pd\n",
    "from textblob import TextBlob\n",
    "\n"
   ]
  },
  {
   "cell_type": "markdown",
   "metadata": {},
   "source": [
    "2. Load datasets "
   ]
  },
  {
   "cell_type": "code",
   "execution_count": 13,
   "metadata": {},
   "outputs": [],
   "source": [
    "news_data = pd.read_csv('../Data/raw_analyst_ratings.csv')\n",
    "stock_data = pd.read_csv('../Data/yfinance_data/AAPL_historical_data.csv')\n"
   ]
  },
  {
   "cell_type": "markdown",
   "metadata": {},
   "source": [
    "3.Convert Timezone-Aware Datetime to Naive Datetime\n"
   ]
  },
  {
   "cell_type": "code",
   "execution_count": 16,
   "metadata": {},
   "outputs": [
    {
     "name": "stdout",
     "output_type": "stream",
     "text": [
      "   Unnamed: 0                                           headline  \\\n",
      "0           0            Stocks That Hit 52-Week Highs On Friday   \n",
      "1           1         Stocks That Hit 52-Week Highs On Wednesday   \n",
      "2           2                      71 Biggest Movers From Friday   \n",
      "3           3       46 Stocks Moving In Friday's Mid-Day Session   \n",
      "4           4  B of A Securities Maintains Neutral on Agilent...   \n",
      "\n",
      "                                                 url          publisher  \\\n",
      "0  https://www.benzinga.com/news/20/06/16190091/s...  Benzinga Insights   \n",
      "1  https://www.benzinga.com/news/20/06/16170189/s...  Benzinga Insights   \n",
      "2  https://www.benzinga.com/news/20/05/16103463/7...         Lisa Levin   \n",
      "3  https://www.benzinga.com/news/20/05/16095921/4...         Lisa Levin   \n",
      "4  https://www.benzinga.com/news/20/05/16095304/b...         Vick Meyer   \n",
      "\n",
      "        date stock       Date       Open       High        Low      Close  \\\n",
      "0 2020-06-05     A 2020-06-05  80.837502  82.937500  80.807503  82.875000   \n",
      "1 2020-06-03     A 2020-06-03  81.165001  81.550003  80.574997  81.279999   \n",
      "2 2020-05-26     A 2020-05-26  80.875000  81.059998  79.125000  79.182503   \n",
      "3 2020-05-22     A 2020-05-22  78.942497  79.807503  78.837502  79.722504   \n",
      "4 2020-05-22     A 2020-05-22  78.942497  79.807503  78.837502  79.722504   \n",
      "\n",
      "   Adj Close     Volume  Dividends  Stock Splits  \n",
      "0  80.843407  137250400        0.0           0.0  \n",
      "1  79.287506  104491200        0.0           0.0  \n",
      "2  77.241432  125522000        0.0           0.0  \n",
      "3  77.768188   81803200        0.0           0.0  \n",
      "4  77.768188   81803200        0.0           0.0  \n"
     ]
    }
   ],
   "source": [
    "# Remove timezone information to make the date column naive\n",
    "news_data['date'] = news_data['date'].dt.tz_localize(None)\n",
    "\n",
    "# Now merge the dataframes on the date column\n",
    "aligned_data = pd.merge(news_data, stock_data, left_on='date', right_on='Date', how='inner')\n",
    "\n",
    "# Print the first few rows of the merged DataFrame to verify\n",
    "print(aligned_data.head())"
   ]
  },
  {
   "cell_type": "code",
   "execution_count": 17,
   "metadata": {},
   "outputs": [
    {
     "name": "stdout",
     "output_type": "stream",
     "text": [
      "datetime64[ns]\n",
      "datetime64[ns]\n"
     ]
    }
   ],
   "source": [
    "# Check the data types of date columns\n",
    "print(news_data['date'].dtype)\n",
    "print(stock_data['Date'].dtype)\n"
   ]
  },
  {
   "cell_type": "markdown",
   "metadata": {},
   "source": [
    "4. Data allignment"
   ]
  },
  {
   "cell_type": "code",
   "execution_count": 18,
   "metadata": {},
   "outputs": [
    {
     "name": "stdout",
     "output_type": "stream",
     "text": [
      "   Unnamed: 0                                           headline  \\\n",
      "0           0            Stocks That Hit 52-Week Highs On Friday   \n",
      "1           1         Stocks That Hit 52-Week Highs On Wednesday   \n",
      "2           2                      71 Biggest Movers From Friday   \n",
      "3           3       46 Stocks Moving In Friday's Mid-Day Session   \n",
      "4           4  B of A Securities Maintains Neutral on Agilent...   \n",
      "\n",
      "                                                 url          publisher  \\\n",
      "0  https://www.benzinga.com/news/20/06/16190091/s...  Benzinga Insights   \n",
      "1  https://www.benzinga.com/news/20/06/16170189/s...  Benzinga Insights   \n",
      "2  https://www.benzinga.com/news/20/05/16103463/7...         Lisa Levin   \n",
      "3  https://www.benzinga.com/news/20/05/16095921/4...         Lisa Levin   \n",
      "4  https://www.benzinga.com/news/20/05/16095304/b...         Vick Meyer   \n",
      "\n",
      "        date stock       Date       Open       High        Low      Close  \\\n",
      "0 2020-06-05     A 2020-06-05  80.837502  82.937500  80.807503  82.875000   \n",
      "1 2020-06-03     A 2020-06-03  81.165001  81.550003  80.574997  81.279999   \n",
      "2 2020-05-26     A 2020-05-26  80.875000  81.059998  79.125000  79.182503   \n",
      "3 2020-05-22     A 2020-05-22  78.942497  79.807503  78.837502  79.722504   \n",
      "4 2020-05-22     A 2020-05-22  78.942497  79.807503  78.837502  79.722504   \n",
      "\n",
      "   Adj Close     Volume  Dividends  Stock Splits  \n",
      "0  80.843407  137250400        0.0           0.0  \n",
      "1  79.287506  104491200        0.0           0.0  \n",
      "2  77.241432  125522000        0.0           0.0  \n",
      "3  77.768188   81803200        0.0           0.0  \n",
      "4  77.768188   81803200        0.0           0.0  \n"
     ]
    }
   ],
   "source": [
    "news_data['date'] = news_data['date'].dt.normalize()\n",
    "stock_data['Date'] = stock_data['Date'].dt.normalize()\n",
    "\n",
    "# Merge the datasets on the normalized date\n",
    "aligned_data = pd.merge(news_data, stock_data, left_on='date', right_on='Date', how='inner')\n",
    "\n",
    "# Check the aligned data\n",
    "print(aligned_data.head())"
   ]
  },
  {
   "cell_type": "markdown",
   "metadata": {},
   "source": [
    "5. Sentimate analysise "
   ]
  },
  {
   "cell_type": "code",
   "execution_count": 20,
   "metadata": {},
   "outputs": [
    {
     "name": "stdout",
     "output_type": "stream",
     "text": [
      "                                            headline  sentiment  \\\n",
      "0            Stocks That Hit 52-Week Highs On Friday        0.0   \n",
      "1         Stocks That Hit 52-Week Highs On Wednesday        0.0   \n",
      "2                      71 Biggest Movers From Friday        0.0   \n",
      "3       46 Stocks Moving In Friday's Mid-Day Session        0.0   \n",
      "4  B of A Securities Maintains Neutral on Agilent...        0.0   \n",
      "\n",
      "  sentiment_category  \n",
      "0            neutral  \n",
      "1            neutral  \n",
      "2            neutral  \n",
      "3            neutral  \n",
      "4            neutral  \n"
     ]
    }
   ],
   "source": [
    "\n",
    "# Ensure the 'headline' column exists in your dataset\n",
    "if 'headline' in news_data.columns:\n",
    "    # Function to get sentiment polarity\n",
    "    def get_sentiment(text):\n",
    "        blob = TextBlob(text)\n",
    "        return blob.sentiment.polarity\n",
    "\n",
    "    # Apply the sentiment function to the 'headline' column\n",
    "    news_data['sentiment'] = news_data['headline'].apply(get_sentiment)\n",
    "\n",
    "    # Categorize sentiment as positive, negative, or neutral\n",
    "    def categorize_sentiment(polarity):\n",
    "        if polarity > 0:\n",
    "            return 'positive'\n",
    "        elif polarity < 0:\n",
    "            return 'negative'\n",
    "        else:\n",
    "            return 'neutral'\n",
    "\n",
    "    news_data['sentiment_category'] = news_data['sentiment'].apply(categorize_sentiment)\n",
    "\n",
    "    # Print the first few rows to check the results\n",
    "    print(news_data[['headline', 'sentiment', 'sentiment_category']].head())\n",
    "else:\n",
    "    print(\"The 'headline' column is missing in the news dataset.\")\n"
   ]
  },
  {
   "cell_type": "markdown",
   "metadata": {},
   "source": [
    "6. Calculate daily stock returns"
   ]
  },
  {
   "cell_type": "code",
   "execution_count": 21,
   "metadata": {},
   "outputs": [
    {
     "name": "stdout",
     "output_type": "stream",
     "text": [
      "               Close  Daily_Return\n",
      "Date                              \n",
      "1980-12-15  0.121652     -5.217061\n",
      "1980-12-16  0.112723     -7.339788\n",
      "1980-12-17  0.115513      2.475091\n",
      "1980-12-18  0.118862      2.899246\n",
      "1980-12-19  0.126116      6.102867\n"
     ]
    }
   ],
   "source": [
    "\n",
    "\n",
    "\n",
    "# Ensure the 'Date' and 'Close' columns are in the correct format\n",
    "stock_data['Date'] = pd.to_datetime(stock_data['Date'])\n",
    "stock_data.set_index('Date', inplace=True)\n",
    "\n",
    "# Calculate daily returns as the percentage change in closing prices\n",
    "stock_data['Daily_Return'] = stock_data['Close'].pct_change() * 100\n",
    "\n",
    "# Drop any rows with NaN values that may have resulted from the pct_change() calculation\n",
    "stock_data.dropna(subset=['Daily_Return'], inplace=True)\n",
    "\n",
    "# Print the first few rows to verify the calculation\n",
    "print(stock_data[['Close', 'Daily_Return']].head())\n"
   ]
  },
  {
   "cell_type": "markdown",
   "metadata": {},
   "source": [
    "7. Correlation analysise "
   ]
  }
 ],
 "metadata": {
  "kernelspec": {
   "display_name": "week1",
   "language": "python",
   "name": "python3"
  },
  "language_info": {
   "codemirror_mode": {
    "name": "ipython",
    "version": 3
   },
   "file_extension": ".py",
   "mimetype": "text/x-python",
   "name": "python",
   "nbconvert_exporter": "python",
   "pygments_lexer": "ipython3",
   "version": "3.9.19"
  }
 },
 "nbformat": 4,
 "nbformat_minor": 2
}
